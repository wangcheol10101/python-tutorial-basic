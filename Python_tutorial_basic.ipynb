{
  "nbformat": 4,
  "nbformat_minor": 0,
  "metadata": {
    "colab": {
      "name": "Python_tutorial_basic.ipynb",
      "provenance": [],
      "collapsed_sections": [],
      "toc_visible": true,
      "authorship_tag": "ABX9TyO07tN+H+9zWPsWt3+FVwrc",
      "include_colab_link": true
    },
    "kernelspec": {
      "name": "python3",
      "display_name": "Python 3"
    }
  },
  "cells": [
    {
      "cell_type": "markdown",
      "metadata": {
        "id": "view-in-github",
        "colab_type": "text"
      },
      "source": [
        "<a href=\"https://colab.research.google.com/github/wangcheol10101/python-tutorial-basic/blob/master/Python_tutorial_basic.ipynb\" target=\"_parent\"><img src=\"https://colab.research.google.com/assets/colab-badge.svg\" alt=\"Open In Colab\"/></a>"
      ]
    },
    {
      "cell_type": "markdown",
      "metadata": {
        "id": "BbSQJTjTeUsG"
      },
      "source": [
        "# ***Working With Strings***"
      ]
    },
    {
      "cell_type": "code",
      "metadata": {
        "colab": {
          "base_uri": "https://localhost:8080/"
        },
        "id": "R0SqIgw7h40z",
        "outputId": "1ed883f9-3a40-419a-81aa-fc8f88e40db0"
      },
      "source": [
        "# \\ -- escape character\r\n",
        "# insert new line to string\r\n",
        "print(\"GIraffe\\nAcademy\")\r\n",
        "# put a quotation mark into string\r\n",
        "print(\"GIraffe\\\"Academy\")\r\n",
        "# concatenation\r\n",
        "phrase = \"Giraffe Academy\"\r\n",
        "print(phrase + \" is cool\")\r\n",
        "# convert string to lower / upper case\r\n",
        "print(phrase.lower())\r\n",
        "print(phrase.upper())\r\n",
        "print(phrase.isupper())\r\n",
        "print(phrase.islower())\r\n",
        "# length of the string\r\n",
        "print(len(phrase))\r\n",
        "print(phrase[0])\r\n",
        "# where it start inside a string\r\n",
        "print(phrase.index(\"Acad\"))\r\n",
        "# replace\r\n",
        "print(phrase.replace(\"Giraffe\", \"Elephant\"))"
      ],
      "execution_count": null,
      "outputs": [
        {
          "output_type": "stream",
          "text": [
            "GIraffe\n",
            "Academy\n",
            "GIraffe\"Academy\n",
            "Giraffe Academy is cool\n",
            "giraffe academy\n",
            "GIRAFFE ACADEMY\n",
            "False\n",
            "False\n",
            "15\n",
            "G\n",
            "8\n",
            "Elephant Academy\n"
          ],
          "name": "stdout"
        }
      ]
    },
    {
      "cell_type": "markdown",
      "metadata": {
        "id": "4KRBo84nmwy_"
      },
      "source": [
        "# **Working With Number**"
      ]
    },
    {
      "cell_type": "code",
      "metadata": {
        "colab": {
          "base_uri": "https://localhost:8080/"
        },
        "id": "EoEhMUsmm4un",
        "outputId": "91db9953-a2c9-4c5c-b76f-01a491f8e793"
      },
      "source": [
        "print(3 + 4.5)\r\n",
        "print(10 % 3)\r\n",
        "# conver number to string\r\n",
        "my_num = -5\r\n",
        "print(str(my_num) + \" my favorite number\")\r\n",
        "# absolute value\r\n",
        "print(abs(my_num))\r\n",
        "# 3^2 power function\r\n",
        "print(pow(3, 2))\r\n",
        "# the larger of the numbers\r\n",
        "print(max(4, 6))\r\n",
        "# the smallest of the numbers\r\n",
        "print(min(4, 6))\r\n",
        "# round a number\r\n",
        "print(round(3.2), round(3.7))"
      ],
      "execution_count": null,
      "outputs": [
        {
          "output_type": "stream",
          "text": [
            "7.5\n",
            "1\n",
            "-5 my favorite number\n",
            "5\n",
            "9\n",
            "6\n",
            "4\n",
            "3 4\n"
          ],
          "name": "stdout"
        }
      ]
    },
    {
      "cell_type": "code",
      "metadata": {
        "colab": {
          "base_uri": "https://localhost:8080/"
        },
        "id": "EIVeoxu1rYhp",
        "outputId": "159016a3-69cb-40e8-ecc1-ac82c424c84c"
      },
      "source": [
        "from math import *\r\n",
        "# chop off decimal point\r\n",
        "print(floor(3.7))\r\n",
        "# around the number up\r\n",
        "print(ceil(3.7))\r\n",
        "# square root\r\n",
        "print(sqrt(36))"
      ],
      "execution_count": null,
      "outputs": [
        {
          "output_type": "stream",
          "text": [
            "3\n",
            "4\n",
            "6.0\n"
          ],
          "name": "stdout"
        }
      ]
    },
    {
      "cell_type": "markdown",
      "metadata": {
        "id": "De7YfX-lsnrG"
      },
      "source": [
        "# **Geting Input From Users**"
      ]
    },
    {
      "cell_type": "code",
      "metadata": {
        "colab": {
          "base_uri": "https://localhost:8080/"
        },
        "id": "XBm5HQJXsv75",
        "outputId": "cbf08be0-c8f0-4828-efda-b13fe46a17cd"
      },
      "source": [
        "# get input from user \r\n",
        "# by default it is a string\r\n",
        "name = input(\"Enter your name: \")\r\n",
        "age = input(\"Enter your age: \")\r\n",
        "print(\"Hello \" + name + \" You are \" + age)"
      ],
      "execution_count": null,
      "outputs": [
        {
          "output_type": "stream",
          "text": [
            "Enter your name: wang\n",
            "Enter your age: 12\n",
            "Hello wang You are 12\n"
          ],
          "name": "stdout"
        }
      ]
    },
    {
      "cell_type": "markdown",
      "metadata": {
        "id": "ryRANxp74rX-"
      },
      "source": [
        "# **Building a Basic Calculator**"
      ]
    },
    {
      "cell_type": "code",
      "metadata": {
        "colab": {
          "base_uri": "https://localhost:8080/"
        },
        "id": "hkowpAFn40mZ",
        "outputId": "8be8b04f-a85c-45d4-d3eb-d3e52c2688df"
      },
      "source": [
        "num1 = input(\"Enter a number: \")\r\n",
        "num2 = input(\"Enter another number: \")\r\n",
        "# # convert string to intenger, can't have a decimal point\r\n",
        "# result = int(num1) + int(num2)\r\n",
        "# convert string to float\r\n",
        "result = float(num1) + float(num2)\r\n",
        "print(result)"
      ],
      "execution_count": null,
      "outputs": [
        {
          "output_type": "stream",
          "text": [
            "Enter a number: 1.2\n",
            "Enter another number: 3.4\n",
            "4.6\n"
          ],
          "name": "stdout"
        }
      ]
    },
    {
      "cell_type": "markdown",
      "metadata": {
        "id": "xPN5n0QL-J1P"
      },
      "source": [
        "# **Lists**"
      ]
    },
    {
      "cell_type": "code",
      "metadata": {
        "colab": {
          "base_uri": "https://localhost:8080/"
        },
        "id": "A8xQ5XaS-M7c",
        "outputId": "fa45d1e1-64b9-4ee4-c0ff-d9a64a6e98ca"
      },
      "source": [
        "# # this is ok\r\n",
        "# friends = [\"Kevin\", 2, False]\r\n",
        "friends = [\"Kevin\", \"Karen\", \"Jim\", \"Oscar\", \"Toby\"]\r\n",
        "# access elements inside a list\r\n",
        "print(friends)\r\n",
        "print(friends[0])\r\n",
        "print(friends[-1])\r\n",
        "print(friends[1:])\r\n",
        "print(friends[1:3])\r\n",
        "# modify elements\r\n",
        "friends[1] = \"Mike\"\r\n",
        "print(friends[1])"
      ],
      "execution_count": null,
      "outputs": [
        {
          "output_type": "stream",
          "text": [
            "['Kevin', 'Karen', 'Jim', 'Oscar', 'Toby']\n",
            "Kevin\n",
            "Toby\n",
            "['Karen', 'Jim', 'Oscar', 'Toby']\n",
            "['Karen', 'Jim']\n",
            "Mike\n"
          ],
          "name": "stdout"
        }
      ]
    },
    {
      "cell_type": "markdown",
      "metadata": {
        "id": "DUdtZoPYBpDs"
      },
      "source": [
        "# **List Functions**"
      ]
    },
    {
      "cell_type": "code",
      "metadata": {
        "colab": {
          "base_uri": "https://localhost:8080/"
        },
        "id": "QMxvQ87KBsqJ",
        "outputId": "d3daa5cc-0da1-40e2-c0cf-d4da07937f4f"
      },
      "source": [
        "lucky_numbers = [4, 8, 15, 16, 23, 42]\r\n",
        "# # add two list together\r\n",
        "# friends.extend(lucky_numbers)\r\n",
        "# # add individual elements onto a list\r\n",
        "# friends.append(\"Creed\")\r\n",
        "# # insert\r\n",
        "# friends.insert(1, \"Kelly\")\r\n",
        "# # remove\r\n",
        "# friends.remove(\"Jim\")\r\n",
        "# # remove all of the elements\r\n",
        "# friends.clear()\r\n",
        "# # pop a item off the list\r\n",
        "# friends.pop()\r\n",
        "# # index of a certain element\r\n",
        "# friends.index(\"Kevin\")\r\n",
        "# # count the number of similar elements in the list\r\n",
        "# friends.count(\"Jim\")\r\n",
        "# # sort list ascending order\r\n",
        "# friends.sort()\r\n",
        "# lucky_numbers.sort()\r\n",
        "# # reverse a list\r\n",
        "# lucky_numbers.reverse()\r\n",
        "# # copy\r\n",
        "# friends2 = friends.copy()\r\n",
        "print(friends)"
      ],
      "execution_count": null,
      "outputs": [
        {
          "output_type": "stream",
          "text": [
            "['Creed', 'Kelly', 'Kevin', 'Mike', 'Oscar', 'Toby']\n"
          ],
          "name": "stdout"
        }
      ]
    },
    {
      "cell_type": "markdown",
      "metadata": {
        "id": "IPc85yuNKA3e"
      },
      "source": [
        "# **Tuples**"
      ]
    },
    {
      "cell_type": "code",
      "metadata": {
        "colab": {
          "base_uri": "https://localhost:8080/"
        },
        "id": "RWrG-qFEKO4I",
        "outputId": "bffc4237-bc81-468a-d0ec-14cebde00fdc"
      },
      "source": [
        "# tuple is immutable (can't be changed or modified)\r\n",
        "coordinates = (4, 5)\r\n",
        "print(coordinates[0])"
      ],
      "execution_count": null,
      "outputs": [
        {
          "output_type": "stream",
          "text": [
            "4\n"
          ],
          "name": "stdout"
        }
      ]
    },
    {
      "cell_type": "markdown",
      "metadata": {
        "id": "ibV76bhoNhOn"
      },
      "source": [
        "# **Functions**"
      ]
    },
    {
      "cell_type": "code",
      "metadata": {
        "colab": {
          "base_uri": "https://localhost:8080/"
        },
        "id": "sRzRstUMNkLK",
        "outputId": "f583ad3f-ea2c-4c7f-f968-3b4ec5d6639b"
      },
      "source": [
        "def say_hi(name, age):\r\n",
        "  print(\"Hello \" + name + \" Yout are \" + str(age))\r\n",
        "\r\n",
        "say_hi(\"Mike\", 35)"
      ],
      "execution_count": null,
      "outputs": [
        {
          "output_type": "stream",
          "text": [
            "Hello Mike Yout are 35\n"
          ],
          "name": "stdout"
        }
      ]
    },
    {
      "cell_type": "markdown",
      "metadata": {
        "id": "3ruBiS0hQilt"
      },
      "source": [
        "# **Return Statement**"
      ]
    },
    {
      "cell_type": "code",
      "metadata": {
        "colab": {
          "base_uri": "https://localhost:8080/"
        },
        "id": "bDRAykzDQmBd",
        "outputId": "d6aa4c51-583a-4f43-803f-ba3c09cce4f9"
      },
      "source": [
        "def cube(num):\r\n",
        "  return pow(num, 3)\r\n",
        "\r\n",
        "result = cube(4)\r\n",
        "print(result)"
      ],
      "execution_count": null,
      "outputs": [
        {
          "output_type": "stream",
          "text": [
            "64.0\n"
          ],
          "name": "stdout"
        }
      ]
    },
    {
      "cell_type": "markdown",
      "metadata": {
        "id": "97pQNDLvSFTo"
      },
      "source": [
        "# **If Statement**"
      ]
    },
    {
      "cell_type": "code",
      "metadata": {
        "colab": {
          "base_uri": "https://localhost:8080/"
        },
        "id": "-QAVu7bySIls",
        "outputId": "e9b2dad6-f34d-49ef-aba8-251c8bf518cd"
      },
      "source": [
        "is_male = True\r\n",
        "is_tall = True\r\n",
        "\r\n",
        "# if is_male or is_tall:\r\n",
        "#   print(\"You are a male or tall or both\")\r\n",
        "# else:\r\n",
        "#   print(\"You are neither male nor tall\")\r\n",
        "\r\n",
        "# if is_male and is_tall:\r\n",
        "#   print(\"You are a tall male\")\r\n",
        "# else:\r\n",
        "#   print(\"You are either not male or not tall\")\r\n",
        "\r\n",
        "if is_male and is_tall:\r\n",
        "  print(\"You are a tall male\")\r\n",
        "elif is_male and not(is_tall):\r\n",
        "  print(\"You are a short male\")\r\n",
        "elif not(is_male) and is_tall:\r\n",
        "  print(\"You are not a male but are tall\")\r\n",
        "else:\r\n",
        "  print(\"You are not a male and not tall\")"
      ],
      "execution_count": null,
      "outputs": [
        {
          "output_type": "stream",
          "text": [
            "You are a tall male\n"
          ],
          "name": "stdout"
        }
      ]
    },
    {
      "cell_type": "markdown",
      "metadata": {
        "id": "cYE7ckmnVsiG"
      },
      "source": [
        "# **If Statements & Comparisons**"
      ]
    },
    {
      "cell_type": "code",
      "metadata": {
        "colab": {
          "base_uri": "https://localhost:8080/"
        },
        "id": "VKo5ezQUV0P-",
        "outputId": "5c8beb8e-bff2-49d6-f4e6-954dabb98d6a"
      },
      "source": [
        "# == !=\r\n",
        "def max_num(num1, num2, num3):\r\n",
        "  if num1 >= num2 and num1 >= num3:\r\n",
        "    return num1\r\n",
        "  elif num2 >= num1 and num2 >= num3:\r\n",
        "    return num2\r\n",
        "  else:\r\n",
        "    return num3\r\n",
        "\r\n",
        "print(max_num(3, 4, 5))"
      ],
      "execution_count": null,
      "outputs": [
        {
          "output_type": "stream",
          "text": [
            "5\n"
          ],
          "name": "stdout"
        }
      ]
    },
    {
      "cell_type": "markdown",
      "metadata": {
        "id": "zVA5TumgXgRR"
      },
      "source": [
        "# **Building a Better Calculator**"
      ]
    },
    {
      "cell_type": "code",
      "metadata": {
        "colab": {
          "base_uri": "https://localhost:8080/"
        },
        "id": "T0DwqRldXqIZ",
        "outputId": "b4b1ba87-623d-499b-a374-bc63a7fd1d55"
      },
      "source": [
        "num1 = float(input(\"Enter first number: \"))\r\n",
        "op = input(\"Enter operator: \")\r\n",
        "num2 = float(input(\"Enter second number: \"))\r\n",
        "\r\n",
        "if op == \"+\":\r\n",
        "  print(num1 + num2)\r\n",
        "elif op == \"-\":\r\n",
        "  print(num1 - num2)\r\n",
        "elif op == \"/\":\r\n",
        "  print(num1 / num2)\r\n",
        "elif op == \"*\":\r\n",
        "  print(num1 * num2)\r\n",
        "else:\r\n",
        "  print(\"invalid operator\")"
      ],
      "execution_count": null,
      "outputs": [
        {
          "output_type": "stream",
          "text": [
            "Enter first number: 6\n",
            "Enter operator: *\n",
            "Enter second number: 5.23\n",
            "31.380000000000003\n"
          ],
          "name": "stdout"
        }
      ]
    },
    {
      "cell_type": "markdown",
      "metadata": {
        "id": "NXkq_es_n--0"
      },
      "source": [
        "# **Dictionaries**"
      ]
    },
    {
      "cell_type": "code",
      "metadata": {
        "colab": {
          "base_uri": "https://localhost:8080/"
        },
        "id": "d0Rh7MwJoDLT",
        "outputId": "ce81e3f9-c581-4aa9-a9ac-6d29084f168a"
      },
      "source": [
        "monthConversions = {\r\n",
        "    \"Jan\": \"January\",\r\n",
        "    \"Feb\": \"February\",\r\n",
        "    \"Mar\": \"March\",\r\n",
        "}\r\n",
        "print(monthConversions[\"Jan\"])\r\n",
        "print(monthConversions.get(\"Jan\"))\r\n",
        "print(monthConversions.get(\"X\"))\r\n",
        "print(monthConversions.get(\"X\", \"Not a valid key\"))"
      ],
      "execution_count": null,
      "outputs": [
        {
          "output_type": "stream",
          "text": [
            "January\n",
            "January\n",
            "None\n",
            "Not a valid key\n"
          ],
          "name": "stdout"
        }
      ]
    },
    {
      "cell_type": "markdown",
      "metadata": {
        "id": "IVfht1sLqWSu"
      },
      "source": [
        "# **While Loop**"
      ]
    },
    {
      "cell_type": "code",
      "metadata": {
        "colab": {
          "base_uri": "https://localhost:8080/"
        },
        "id": "065Kl4avqZtY",
        "outputId": "ec1002d9-8208-4aaf-a7f6-551a77adcd1f"
      },
      "source": [
        "i = 1\r\n",
        "while i <= 10:\r\n",
        "  print(i)\r\n",
        "  i += 1\r\n",
        "\r\n",
        "print(\"Done with loop\")"
      ],
      "execution_count": null,
      "outputs": [
        {
          "output_type": "stream",
          "text": [
            "1\n",
            "2\n",
            "3\n",
            "4\n",
            "5\n",
            "6\n",
            "7\n",
            "8\n",
            "9\n",
            "10\n",
            "Done with loop\n"
          ],
          "name": "stdout"
        }
      ]
    },
    {
      "cell_type": "markdown",
      "metadata": {
        "id": "XT4-Vx64r8oN"
      },
      "source": [
        "# **Building a Guessing Game**"
      ]
    },
    {
      "cell_type": "code",
      "metadata": {
        "colab": {
          "base_uri": "https://localhost:8080/"
        },
        "id": "8zfuT_8VsA81",
        "outputId": "f47f7d67-524c-425b-d15e-ec8bf3328818"
      },
      "source": [
        "secret_word = \"giraffe\"\r\n",
        "guess = \"\"\r\n",
        "guess_count = 0\r\n",
        "guess_limit = 3\r\n",
        "out_of_guesses = False\r\n",
        "\r\n",
        "while guess != secret_word and not(out_of_guesses):\r\n",
        "  if guess_count < guess_limit:\r\n",
        "    guess = input(\"Enter guess: \")\r\n",
        "    guess_count += 1\r\n",
        "  else:\r\n",
        "    out_of_guesses = True\r\n",
        "\r\n",
        "if out_of_guesses:\r\n",
        "  print(\"You lose!\")\r\n",
        "else:\r\n",
        "  print(\"You win!\")"
      ],
      "execution_count": null,
      "outputs": [
        {
          "output_type": "stream",
          "text": [
            "Enter guess: df\n",
            "Enter guess: dfd\n",
            "Enter guess: df\n",
            "You lose!\n"
          ],
          "name": "stdout"
        }
      ]
    },
    {
      "cell_type": "markdown",
      "metadata": {
        "id": "K1DtTEeavYSs"
      },
      "source": [
        "# **For Loop**"
      ]
    },
    {
      "cell_type": "code",
      "metadata": {
        "colab": {
          "base_uri": "https://localhost:8080/"
        },
        "id": "EyRhEHoTvbRl",
        "outputId": "93b22a25-5965-41df-9139-4aa103a0abcf"
      },
      "source": [
        "# for letter in \"Giraffe Academy\":\r\n",
        "#   print(letter)\r\n",
        "\r\n",
        "# for friend in friends:\r\n",
        "#   print(friend)\r\n",
        "\r\n",
        "# for index in range(3, 10):\r\n",
        "#   print(index)\r\n",
        "\r\n",
        "for index in range(len(friends)):\r\n",
        "  print(friends[index])\r\n"
      ],
      "execution_count": null,
      "outputs": [
        {
          "output_type": "stream",
          "text": [
            "Creed\n",
            "Kelly\n",
            "Kevin\n",
            "Mike\n",
            "Oscar\n",
            "Toby\n"
          ],
          "name": "stdout"
        }
      ]
    },
    {
      "cell_type": "markdown",
      "metadata": {
        "id": "Rvzz4wzgyrOn"
      },
      "source": [
        "# **Exponent Function**"
      ]
    },
    {
      "cell_type": "code",
      "metadata": {
        "colab": {
          "base_uri": "https://localhost:8080/"
        },
        "id": "FVXP6ti9yvki",
        "outputId": "d68aaee5-c770-43cb-852b-e6f314d01461"
      },
      "source": [
        "# 2^3\r\n",
        "print(2**3)\r\n",
        "\r\n",
        "def raise_to_power(base_num, pow_num):\r\n",
        "  result = 1\r\n",
        "  for index in range(pow_num):\r\n",
        "    result = result * base_num\r\n",
        "  return result\r\n",
        "\r\n",
        "print(raise_to_power(2, 3))"
      ],
      "execution_count": null,
      "outputs": [
        {
          "output_type": "stream",
          "text": [
            "8\n",
            "8\n"
          ],
          "name": "stdout"
        }
      ]
    },
    {
      "cell_type": "markdown",
      "metadata": {
        "id": "UPfrRFen0tPr"
      },
      "source": [
        "# **2D List & Nested Loops**"
      ]
    },
    {
      "cell_type": "code",
      "metadata": {
        "colab": {
          "base_uri": "https://localhost:8080/"
        },
        "id": "vjreOzmQ0zXk",
        "outputId": "efa52733-8144-45c5-9229-d61c264588d1"
      },
      "source": [
        "number_grid = [\r\n",
        "  [1, 2, 3],\r\n",
        "  [4, 5, 6],\r\n",
        "  [7, 8, 9],\r\n",
        "  [0]\r\n",
        "]\r\n",
        "\r\n",
        "for row in number_grid:\r\n",
        "  for col in row:\r\n",
        "    print(col)"
      ],
      "execution_count": null,
      "outputs": [
        {
          "output_type": "stream",
          "text": [
            "1\n",
            "2\n",
            "3\n",
            "4\n",
            "5\n",
            "6\n",
            "7\n",
            "8\n",
            "9\n",
            "0\n"
          ],
          "name": "stdout"
        }
      ]
    },
    {
      "cell_type": "markdown",
      "metadata": {
        "id": "71GuwOIB2MDS"
      },
      "source": [
        "# **Build a Translator**"
      ]
    },
    {
      "cell_type": "code",
      "metadata": {
        "colab": {
          "base_uri": "https://localhost:8080/"
        },
        "id": "lwOLAUQZ2QvP",
        "outputId": "4b2e089d-3c2e-4eee-c53b-7bcd6079b088"
      },
      "source": [
        "def translate(phrase):\r\n",
        "  translation = \"\"\r\n",
        "  for letter in phrase:\r\n",
        "    if letter.lower() in \"aeiou\":\r\n",
        "      if letter.isupper():\r\n",
        "        translation = translation + \"G\"\r\n",
        "      else:\r\n",
        "        translation = translation + \"g\"\r\n",
        "    else:\r\n",
        "      translation = translation + letter\r\n",
        "  return translation\r\n",
        "\r\n",
        "print(translate(input(\"Enter a phrase: \")))"
      ],
      "execution_count": null,
      "outputs": [
        {
          "output_type": "stream",
          "text": [
            "Enter a phrase: on\n",
            "gn\n"
          ],
          "name": "stdout"
        }
      ]
    },
    {
      "cell_type": "markdown",
      "metadata": {
        "id": "hi_3Qvpi4NT1"
      },
      "source": [
        "# **Comments**"
      ]
    },
    {
      "cell_type": "code",
      "metadata": {
        "id": "6CWyll094P4r"
      },
      "source": [
        "'''\r\n",
        "comments\r\n",
        "'''"
      ],
      "execution_count": null,
      "outputs": []
    },
    {
      "cell_type": "markdown",
      "metadata": {
        "id": "_AYW-TyL5faE"
      },
      "source": [
        "# **Try Except**"
      ]
    },
    {
      "cell_type": "code",
      "metadata": {
        "colab": {
          "base_uri": "https://localhost:8080/"
        },
        "id": "rXUy_SDg5jz1",
        "outputId": "4d39a851-66f7-45d5-b4b8-029c81d7db06"
      },
      "source": [
        "try:\r\n",
        "  value = 10 / 0\r\n",
        "  number = int(input(\"Enter a number: \"))\r\n",
        "  print(number)\r\n",
        "except ValueError:\r\n",
        "  print('Invalid input')\r\n",
        "except ZeroDivisionError as err:\r\n",
        "  print(err)"
      ],
      "execution_count": null,
      "outputs": [
        {
          "output_type": "stream",
          "text": [
            "division by zero\n"
          ],
          "name": "stdout"
        }
      ]
    },
    {
      "cell_type": "markdown",
      "metadata": {
        "id": "9L5TzBfv7rMT"
      },
      "source": [
        "# **Reading FIles**"
      ]
    },
    {
      "cell_type": "code",
      "metadata": {
        "colab": {
          "base_uri": "https://localhost:8080/",
          "height": 239
        },
        "id": "3TsQK0W57v1e",
        "outputId": "3e460f26-09c2-45d0-daf2-d546cc41e955"
      },
      "source": [
        "# open file \"r\"(read), \"w\"(write, override entire file or create a new file), \"a\"(append information onto the end of the file) \"r+\"(read and write)\r\n",
        "file = open(\"C:\\\\Users\\\\LG\\\\Desktop\\\\memo.txt\", \"r\")\r\n",
        "# tell us whether or not we can read from that file\r\n",
        "print(file.readable())\r\n",
        "# spit out all the information in the file\r\n",
        "print(file.read())\r\n",
        "# read an individual line (reading the first line and then moving cursor onto next line)\r\n",
        "print(file.readline())\r\n",
        "# take all of the lines inside of our file, and put them inside of an array\r\n",
        "print(file.readlines())\r\n",
        "for line in file.readlines():\r\n",
        "  print(line)\r\n",
        "# close file\r\n",
        "file.close()"
      ],
      "execution_count": null,
      "outputs": [
        {
          "output_type": "error",
          "ename": "FileNotFoundError",
          "evalue": "ignored",
          "traceback": [
            "\u001b[0;31m---------------------------------------------------------------------------\u001b[0m",
            "\u001b[0;31mFileNotFoundError\u001b[0m                         Traceback (most recent call last)",
            "\u001b[0;32m<ipython-input-109-4fa1aa909a41>\u001b[0m in \u001b[0;36m<module>\u001b[0;34m()\u001b[0m\n\u001b[1;32m      1\u001b[0m \u001b[0;31m# open file \"r\"(read), \"w\"(write), \"a\"(append information onto the end of the file) \"r+\"(read and write)\u001b[0m\u001b[0;34m\u001b[0m\u001b[0;34m\u001b[0m\u001b[0;34m\u001b[0m\u001b[0m\n\u001b[0;32m----> 2\u001b[0;31m \u001b[0mfile\u001b[0m \u001b[0;34m=\u001b[0m \u001b[0mopen\u001b[0m\u001b[0;34m(\u001b[0m\u001b[0;34m\"C:\\\\Users\\\\LG\\\\Desktop\\\\memo.txt\"\u001b[0m\u001b[0;34m,\u001b[0m \u001b[0;34m\"r\"\u001b[0m\u001b[0;34m)\u001b[0m\u001b[0;34m\u001b[0m\u001b[0;34m\u001b[0m\u001b[0m\n\u001b[0m\u001b[1;32m      3\u001b[0m \u001b[0;31m# tell us whether or not we can read from that file\u001b[0m\u001b[0;34m\u001b[0m\u001b[0;34m\u001b[0m\u001b[0;34m\u001b[0m\u001b[0m\n\u001b[1;32m      4\u001b[0m \u001b[0mprint\u001b[0m\u001b[0;34m(\u001b[0m\u001b[0mfile\u001b[0m\u001b[0;34m.\u001b[0m\u001b[0mreadable\u001b[0m\u001b[0;34m(\u001b[0m\u001b[0;34m)\u001b[0m\u001b[0;34m)\u001b[0m\u001b[0;34m\u001b[0m\u001b[0;34m\u001b[0m\u001b[0m\n\u001b[1;32m      5\u001b[0m \u001b[0;31m# close file\u001b[0m\u001b[0;34m\u001b[0m\u001b[0;34m\u001b[0m\u001b[0;34m\u001b[0m\u001b[0m\n",
            "\u001b[0;31mFileNotFoundError\u001b[0m: [Errno 2] No such file or directory: 'C:\\\\Users\\\\LG\\\\Desktop\\\\memo.txt'"
          ]
        }
      ]
    },
    {
      "cell_type": "markdown",
      "metadata": {
        "id": "pyF5a0NqBO8U"
      },
      "source": [
        "# **Writing to Files**"
      ]
    },
    {
      "cell_type": "code",
      "metadata": {
        "id": "8nU06PZQBT4E"
      },
      "source": [
        "file = open(\"C:\\\\Users\\\\LG\\\\Desktop\\\\memo.txt\", \"a\")\r\n",
        "# write something to the end of the file\r\n",
        "file.write(\"\\nsomething\")\r\n",
        "# close file\r\n",
        "file.close()"
      ],
      "execution_count": null,
      "outputs": []
    },
    {
      "cell_type": "markdown",
      "metadata": {
        "id": "6g9I4VClDc7y"
      },
      "source": [
        "# **Modules and Pip**"
      ]
    },
    {
      "cell_type": "code",
      "metadata": {
        "id": "pCeuYQ5ODhup"
      },
      "source": [
        "# import useful_tools\r\n",
        "\r\n",
        "# print(useful_tools.functions())\r\n",
        "\r\n",
        "# pip is a program to install python modules (package manager)\r\n",
        "# command prompt --> pip install ...\r\n",
        "# import ...\r\n",
        "# remove: pip uninstall ..."
      ],
      "execution_count": null,
      "outputs": []
    },
    {
      "cell_type": "markdown",
      "metadata": {
        "id": "-ND42q8RPuj_"
      },
      "source": [
        "# **Classes & Objects**"
      ]
    },
    {
      "cell_type": "code",
      "metadata": {
        "colab": {
          "base_uri": "https://localhost:8080/"
        },
        "id": "ZDoLoMcHP3Ld",
        "outputId": "729df78c-455b-49c2-beec-133bcd8a5d21"
      },
      "source": [
        "# class: another data type that we want to use in python\r\n",
        "class Student:\r\n",
        "  # in init functiojn: map out what attributes should have\r\n",
        "  def __init__(self, name, major, gpa, is_on_probation):\r\n",
        "    self.name = name\r\n",
        "    self.major = major\r\n",
        "    self.gpa = gpa\r\n",
        "    self.is_on_probation = is_on_probation\r\n",
        "\r\n",
        "# from Student import Student (form file import class)\r\n",
        "# studnet object\r\n",
        "student1 = Student(\"Jim\", \"Business\", 3.1, False)\r\n",
        "student2 = Student(\"Pam\", \"Art\", 2.5, True)\r\n",
        "print(student1.name)"
      ],
      "execution_count": null,
      "outputs": [
        {
          "output_type": "stream",
          "text": [
            "Jim\n"
          ],
          "name": "stdout"
        }
      ]
    },
    {
      "cell_type": "markdown",
      "metadata": {
        "id": "sAis-qxAZjDq"
      },
      "source": [
        "# **Object Functions**"
      ]
    },
    {
      "cell_type": "code",
      "metadata": {
        "colab": {
          "base_uri": "https://localhost:8080/"
        },
        "id": "w9qSvqYNaeOj",
        "outputId": "c302844e-4cb0-4430-bce1-f392997e3302"
      },
      "source": [
        "# a function that we can use inside of a class\r\n",
        "class Student:\r\n",
        "  # in init functiojn: map out what attributes should have\r\n",
        "  def __init__(self, name, major, gpa):\r\n",
        "    self.name = name\r\n",
        "    self.major = major\r\n",
        "    self.gpa = gpa\r\n",
        "  \r\n",
        "  def on_honor_roll(self):\r\n",
        "    if self.gpa >= 3.5:\r\n",
        "      return True\r\n",
        "    else:\r\n",
        "      return False\r\n",
        "\r\n",
        "student1 = Student(\"Oscar\", \"Accounting\", 3.1)\r\n",
        "student2 = Student(\"Phyllis\", \"Business\", 3.8)\r\n",
        "\r\n",
        "print(student1.on_honor_roll())"
      ],
      "execution_count": null,
      "outputs": [
        {
          "output_type": "stream",
          "text": [
            "False\n"
          ],
          "name": "stdout"
        }
      ]
    },
    {
      "cell_type": "markdown",
      "metadata": {
        "id": "cgp4nIiKcSuq"
      },
      "source": [
        "# **Inheritance**"
      ]
    },
    {
      "cell_type": "code",
      "metadata": {
        "colab": {
          "base_uri": "https://localhost:8080/"
        },
        "id": "5G0KYvpQcVaG",
        "outputId": "673de81d-53f7-418e-c776-b63fc446a16b"
      },
      "source": [
        "class Chef:\r\n",
        "\r\n",
        "  def make_chicken(self):\r\n",
        "    print(\"chicken\")\r\n",
        "\r\n",
        "  def make_salad(self):\r\n",
        "    print(\"salad\")\r\n",
        "\r\n",
        "  def make_special_dish(self):\r\n",
        "    print(\"special dish\")\r\n",
        "\r\n",
        "class ChineseChef(Chef):\r\n",
        "\r\n",
        "  # overwrite\r\n",
        "  def make_special_dish(self):\r\n",
        "    print(\"orange chicken\") \r\n",
        "\r\n",
        "  def make_fried_rice(self):\r\n",
        "    print(\"fired rice\")\r\n",
        "\r\n",
        "myChef = Chef()\r\n",
        "myChef.make_chicken()\r\n",
        "\r\n",
        "myChineseChef = ChineseChef()\r\n",
        "myChineseChef.make_special_dish()"
      ],
      "execution_count": null,
      "outputs": [
        {
          "output_type": "stream",
          "text": [
            "chicken\n",
            "orange chicken\n"
          ],
          "name": "stdout"
        }
      ]
    }
  ]
}